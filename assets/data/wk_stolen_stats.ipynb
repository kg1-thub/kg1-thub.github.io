{
 "cells": [
  {
   "cell_type": "markdown",
   "metadata": {},
   "source": [
    "# 1. STOLEN-STATS"
   ]
  },
  {
   "cell_type": "code",
   "execution_count": 7,
   "metadata": {},
   "outputs": [
    {
     "output_type": "execute_result",
     "data": {
      "text/plain": [
       "([('ヤクルト', 89, 53, 36, 59),\n",
       "  ('横浜', 33, 22, 11, 66),\n",
       "  ('巨人', 80, 56, 24, 70),\n",
       "  ('広島', 69, 46, 23, 66),\n",
       "  ('阪神', 90, 64, 26, 71),\n",
       "  ('中日', 37, 22, 15, 59)],\n",
       " [('ヤクルト', 75, 59, 16, 78),\n",
       "  ('横浜', 82, 50, 32, 60),\n",
       "  ('巨人', 52, 33, 19, 63),\n",
       "  ('広島', 55, 34, 21, 61),\n",
       "  ('阪神', 60, 41, 19, 68),\n",
       "  ('中日', 74, 46, 28, 62)])"
      ]
     },
     "metadata": {},
     "execution_count": 7
    }
   ],
   "source": [
    "import psycopg2\n",
    "\n",
    "def get_query(sql):\n",
    "    conn = psycopg2.connect('dbname=baseball host=localhost user=postgres password=postgres')\n",
    "    cur = conn.cursor()\n",
    "    cur.execute(sql)\n",
    "    conn.commit()\n",
    "    results = cur.fetchall()\n",
    "    cur.close()\n",
    "    conn.close()\n",
    "    return results\n",
    "\n",
    "def replace_table(tablename, filename):\n",
    "    conn = psycopg2.connect('dbname=baseball host=localhost user=postgres password=postgres')\n",
    "    cur = conn.cursor()\n",
    "    # trunctb = \"TRUNCATE catcher_stats;\"\n",
    "    trunctb = \"TRUNCATE %s;\" % tablename\n",
    "    copytotb = \"COPY %s FROM 'C:\\\\Users\\\\ki401\\\\Documents\\\\postgres\\\\%s' WITH (format csv, header, encoding 'SJIS');\" % (tablename, filename)\n",
    "    res1 = cur.execute(trunctb)\n",
    "    res2 = cur.execute(copytotb)\n",
    "    conn.commit()\n",
    "    cur.close()\n",
    "    conn.close()\n",
    "    return\n",
    "\n",
    "replace_table('stolen_stats', 'stolen_stats.csv')\n",
    "\n",
    "sql20of = \"\\\n",
    "SELECT o_team, sum(stolen_bases)+sum(caught_stealing) so, sum(stolen_bases) sb, sum(caught_stealing) cs, sum(stolen_bases)*100/(sum(stolen_bases)+sum(caught_stealing)) csr FROM stolen_stats GROUP BY o_team ORDER BY o_team; \\\n",
    "\"\n",
    "sql20df = \"\\\n",
    "SELECT d_team, sum(stolen_bases)+sum(caught_stealing) so, sum(stolen_bases) sb, sum(caught_stealing) cs, sum(stolen_bases)*100/(sum(stolen_bases)+sum(caught_stealing)) csr FROM stolen_stats GROUP BY d_team ORDER BY d_team; \\\n",
    "\"\n",
    "\n",
    "# https://www.yakult-swallows.co.jp/media_guide/hitting_cl/\n",
    "df = get_query(sql20df)\n",
    "of = get_query(sql20of) \n",
    "of,df"
   ]
  },
  {
   "cell_type": "code",
   "execution_count": 8,
   "metadata": {
    "tags": []
   },
   "outputs": [
    {
     "output_type": "stream",
     "name": "stdout",
     "text": [
      "チーム, 許盗塁/被盗塁企図, 盗塁成功/盗塁企図\nヤクルト,59/75 (78%),\t53/89 (59%)\n横浜,50/82 (60%),\t22/33 (66%)\n巨人,33/52 (63%),\t56/80 (70%)\n広島,34/55 (61%),\t46/69 (66%)\n阪神,41/60 (68%),\t64/90 (71%)\n中日,46/74 (62%),\t22/37 (59%)\n"
     ]
    }
   ],
   "source": [
    "print('チーム, 許盗塁/被盗塁企図, 盗塁成功/盗塁企図')\n",
    "for _of, _df in zip(of, df):\n",
    "    print(\n",
    "        _of[0]+\",\"+ \n",
    "        str(_df[2])+\"/\"+str(_df[1])+\" (\"+\n",
    "        str(_df[4])+\"%),\\t\"+\n",
    "        str(_of[2])+\"/\"+str(_of[1])+\" (\"+ \n",
    "        str(_of[4])+\"%)\"\n",
    "    )"
   ]
  },
  {
   "cell_type": "code",
   "execution_count": null,
   "metadata": {},
   "outputs": [],
   "source": []
  }
 ],
 "metadata": {
  "kernelspec": {
   "display_name": "Python 3.6.3 64-bit",
   "language": "python",
   "name": "python36364bit781f0faeeb2d430f84f8d9ec8a852b59"
  },
  "language_info": {
   "codemirror_mode": {
    "name": "ipython",
    "version": 3
   },
   "file_extension": ".py",
   "mimetype": "text/x-python",
   "name": "python",
   "nbconvert_exporter": "python",
   "pygments_lexer": "ipython3",
   "version": "3.6.3-final"
  }
 },
 "nbformat": 4,
 "nbformat_minor": 2
}